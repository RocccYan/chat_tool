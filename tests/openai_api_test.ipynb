{
 "cells": [
  {
   "cell_type": "markdown",
   "id": "6c2f14e6",
   "metadata": {},
   "source": [
    "# OpenAI API 测试：Web Search Preview 和 Thread 对话功能\n",
    "\n",
    "本 notebook 用于测试 OpenAI API 的以下功能：\n",
    "1. Web Search Preview 功能\n",
    "2. Thread 对话功能（多轮对话）\n",
    "\n",
    "## 1. 导入所需库"
   ]
  },
  {
   "cell_type": "code",
   "execution_count": 1,
   "id": "70ac3ba8",
   "metadata": {},
   "outputs": [],
   "source": [
    "import os\n",
    "import openai\n",
    "from openai import OpenAI\n",
    "import json\n",
    "import time\n",
    "from datetime import datetime"
   ]
  },
  {
   "cell_type": "markdown",
   "id": "cac63799",
   "metadata": {},
   "source": [
    "## 2. 设置 OpenAI 客户端配置\n",
    "\n",
    "配置 OpenAI 客户端，需要设置 API key。"
   ]
  },
  {
   "cell_type": "code",
   "execution_count": null,
   "id": "bbc8cbee",
   "metadata": {},
   "outputs": [
    {
     "name": "stdout",
     "output_type": "stream",
     "text": [
      "API key 已设置\n"
     ]
    }
   ],
   "source": [
    "# 设置 API key（建议使用环境变量）\n",
    "# 方法1：从环境变量获取\n",
    "\n",
    "# api_key = os.getenv(\"OPENAI_API_KEY\")\n",
    "\n",
    "if not api_key:\n",
    "    print(\"警告：未找到 OPENAI_API_KEY 环境变量，请设置后再运行\")\n",
    "    print(\"设置方法：export OPENAI_API_KEY='your-api-key'\")\n",
    "else:\n",
    "    print(\"API key 已设置\")\n",
    "\n",
    "# 初始化 OpenAI 客户端\n",
    "client = OpenAI(api_key=api_key)"
   ]
  },
  {
   "cell_type": "code",
   "execution_count": null,
   "id": "5713ea08",
   "metadata": {},
   "outputs": [
    {
     "name": "stdout",
     "output_type": "stream",
     "text": [
      "Hi there! How can I assist you today?\n"
     ]
    }
   ],
   "source": [
    "completion = client.chat.completions.create(\n",
    "    model=\"gpt-4o\",\n",
    "    messages=[\n",
    "        {\n",
    "            \"role\": \"user\",\n",
    "            \"content\": \"Hello.\",\n",
    "        }\n",
    "    ],\n",
    ")\n",
    "\n",
    "print(completion.choices[0].message.content)"
   ]
  },
  {
   "cell_type": "code",
   "execution_count": 13,
   "id": "2a8c0292",
   "metadata": {},
   "outputs": [
    {
     "name": "stdout",
     "output_type": "stream",
     "text": [
      "2025年7月9日，美国总统唐纳德·特朗普宣布，从8月1日起对所有来自巴西的进口商品征收50%的关税。 ([ft.com](https://www.ft.com/content/c87765ee-94de-4a76-9ed1-0ffa4b94f0fd?utm_source=openai))特朗普表示，此举是对巴西政府对前总统雅伊尔·博索纳罗司法调查的回应，称其为“政治猎巫”，并要求立即终止对博索纳罗的审判。 ([theweek.com](https://theweek.com/politics/trump-tariffs-brazil?utm_source=openai))\n",
      "\n",
      "巴西总统路易斯·伊纳西奥·卢拉·达席尔瓦对此表示强烈反对，强调巴西是一个独立的主权国家，不会接受任何形式的干预。 ([chinanews.com.cn](https://www.chinanews.com.cn/gj/2025/07-10/10445603.shtml?utm_source=openai))卢拉还表示，巴西将依据《商业互惠法》对美国的关税措施进行对等回应。 ([elpais.com](https://elpais.com/expres/2025-07-11/trump-castiga-con-aranceles-del-50-a-brasil-por-el-juicio-a-bolsonaro-y-lula-da-silva-piensa-responder.html?utm_source=openai))\n",
      "\n",
      "分析人士指出，美国对巴西征收50%关税可能对巴西的出口经济产生重大影响，特别是咖啡、牛肉、橙汁、石油和航空等关键行业。 ([reuters.com](https://www.reuters.com/business/aerospace-defense/how-50-us-tariff-rate-could-affect-brazilian-exports-2025-07-10/?utm_source=openai))然而，巴西财政部预测，关税对整体经济的影响有限，只有航空航天和能源机械等特定制造业部门会受到显著影响。 ([reuters.com](https://www.reuters.com/world/americas/brazil-downplays-impact-us-tariffs-2025-growth-2025-07-11/?utm_source=openai))\n",
      "\n",
      "此外，巴西计划寻求替代市场，以减少对美国市场的依赖。 ([reuters.com](https://www.reuters.com/world/americas/brazil-downplays-impact-us-tariffs-2025-growth-2025-07-11/?utm_source=openai))目前，中国已成为巴西最大的出口市场，占出口总额的28%，而美国占12%。 ([reuters.com](https://www.reuters.com/world/americas/brazil-downplays-impact-us-tariffs-2025-growth-2025-07-11/?utm_source=openai))\n",
      "\n",
      "\n",
      "## 美国对巴西征收50%关税引发国际关注:\n",
      "- [Trump says he will speak to Lula at some point as Brazil downplays tariff impact](https://www.reuters.com/world/americas/brazil-downplays-impact-us-tariffs-2025-growth-2025-07-11/?utm_source=openai)\n",
      "- [Donald Trump threatens to impose 50% tariff on Brazil](https://www.ft.com/content/c87765ee-94de-4a76-9ed1-0ffa4b94f0fd?utm_source=openai)\n",
      "- [How a 50% US tariff rate could affect Brazilian exports](https://www.reuters.com/business/aerospace-defense/how-50-us-tariff-rate-could-affect-brazilian-exports-2025-07-10/?utm_source=openai) \n"
     ]
    }
   ],
   "source": [
    "completion = client.chat.completions.create(\n",
    "    model=\"gpt-4o-search-preview\",\n",
    "    web_search_options={},\n",
    "    messages=[\n",
    "        {\n",
    "            \"role\": \"user\",\n",
    "            # \"content\": \"What is the current weather like in New York?\",\n",
    "            \"content\": \"2025年，美国向巴西征收关税，给我一些相关报道和链接\",\n",
    "        }\n",
    "    ],\n",
    ")\n",
    "\n",
    "print(completion.choices[0].message.content)"
   ]
  },
  {
   "cell_type": "markdown",
   "id": "5ab2bbd6",
   "metadata": {},
   "source": [
    "## 3. 创建 Thread 进行对话\n",
    "\n",
    "使用 OpenAI 的 thread 功能来维护多轮对话的上下文。"
   ]
  },
  {
   "cell_type": "code",
   "execution_count": 24,
   "id": "5fcc6430",
   "metadata": {},
   "outputs": [],
   "source": [
    "\"\"\"\n",
    "Multi‑turn thread demo for the OpenAI Assistants API.\n",
    "\n",
    "Usage:\n",
    "  $ pip install --upgrade openai     # needs openai>=1.59\n",
    "  $ export OPENAI_API_KEY=\"sk-...\"\n",
    "  $ python openai_thread_multiturn_demo.py\n",
    "\n",
    "The script will:\n",
    "  • create a tiny assistant that remembers prior turns\n",
    "  • open a fresh thread\n",
    "  • send two user messages in sequence\n",
    "  • print the assistant’s replies\n",
    "\n",
    "The assistant’s second answer should reference the first user question,\n",
    "confirming that the thread keeps state across turns.\n",
    "\"\"\"\n",
    "\n",
    "\n",
    "def wait_on_run(thread_id: str, run_id: str):\n",
    "    \"\"\"Poll the run until it completes and return the final run object.\"\"\"\n",
    "    while True:\n",
    "        run = client.beta.threads.runs.retrieve(thread_id=thread_id, run_id=run_id)\n",
    "        if run.status in {\"completed\", \"failed\", \"cancelled\", \"expired\"}:\n",
    "            return run\n",
    "        time.sleep(0.5)\n",
    "\n",
    "\n",
    "# 1) Create (or reuse) a minimal assistant ------------------------------------\n",
    "assistant = client.beta.assistants.create(\n",
    "    name=\"Echo & Memory Tester\",\n",
    "    instructions=(\n",
    "        \"You are a super‑concise assistant. \"\n",
    "        \"Answer in one sentence and remember earlier messages.\"\n",
    "    ),\n",
    "    model=\"gpt-4o-mini\"  # swap for gpt-4o or gpt-3.5-turbo if needed\n",
    ")\n",
    "\n",
    "\n",
    "# 2) Open a brand‑new thread ---------------------------------------------------\n",
    "thread = client.beta.threads.create()\n",
    "\n",
    "\n",
    "def chat_once(user_content: str) -> str:\n",
    "    \"\"\"Send one user message, run the assistant, and return its reply.\"\"\"\n",
    "    # 3) Append the user message to the thread\n",
    "    client.beta.threads.messages.create(\n",
    "        thread_id=thread.id,\n",
    "        role=\"user\",\n",
    "        content=user_content,\n",
    "    )\n",
    "\n",
    "    # 4) Kick off a run for this turn\n",
    "    run = client.beta.threads.runs.create(\n",
    "        thread_id=thread.id,\n",
    "        assistant_id=assistant.id,\n",
    "    )\n",
    "\n",
    "    # 5) Wait until the run finishes\n",
    "    run = wait_on_run(thread.id, run.id)\n",
    "\n",
    "    # 6) Fetch the assistant's newest message\n",
    "    messages = client.beta.threads.messages.list(thread_id=thread.id, limit=1)\n",
    "    return messages.data[0].content[0].text.value\n",
    "\n"
   ]
  },
  {
   "cell_type": "code",
   "execution_count": 15,
   "id": "0df7497a",
   "metadata": {},
   "outputs": [
    {
     "name": "stdout",
     "output_type": "stream",
     "text": [
      "\n",
      "=== Turn 1 ===\n",
      "User: Hello, what's your name?\n",
      "Assistant: I'm your assistant; I don't have a personal name.\n",
      "\n",
      "=== Turn 2 ===\n",
      "User: What did I just ask you?\n",
      "Assistant: You asked for my name.\n"
     ]
    }
   ],
   "source": [
    "# if __name__ == \"__main__\":\n",
    "# --- Turn 1 -------------------------------------------------------------\n",
    "print(\"\\n=== Turn 1 ===\")\n",
    "user_1 = \"Hello, what's your name?\"\n",
    "print(\"User:\", user_1)\n",
    "assistant_1 = chat_once(user_1)\n",
    "print(\"Assistant:\", assistant_1)\n",
    "\n",
    "# --- Turn 2 -------------------------------------------------------------\n",
    "print(\"\\n=== Turn 2 ===\")\n",
    "user_2 = \"What did I just ask you?\"\n",
    "print(\"User:\", user_2)\n",
    "assistant_2 = chat_once(user_2)\n",
    "print(\"Assistant:\", assistant_2)\n",
    "\n",
    "# print(\"\\n✔️  Multi‑turn demo complete. If the second assistant reply correctly recalls the first question, your thread is working!\")\n"
   ]
  },
  {
   "cell_type": "markdown",
   "id": "5ade64bc",
   "metadata": {},
   "source": [
    "## 4. 测试web_search\n"
   ]
  },
  {
   "cell_type": "code",
   "execution_count": 25,
   "id": "589d88be",
   "metadata": {},
   "outputs": [
    {
     "name": "stdout",
     "output_type": "stream",
     "text": [
      "As of 4:32 PM local time on Saturday, July 12, 2025, in Hangzhou, China, the weather is as follows:\n",
      "\n",
      "## 杭州市, 中华人民共和国 的天气：\n",
      "当前状况：小雨，85°F (30°C)\n",
      "\n",
      "每日预报：\n",
      "* 星期六, 七月 12：低温：75°F (24°C)，高温：87°F (31°C)，描述：多云，潮湿\n",
      "* 星期日, 七月 13：低温：75°F (24°C)，高温：90°F (32°C)，描述：上午有少量降雨；大部分多云\n",
      "* 星期一, 七月 14：低温：74°F (23°C)，高温：96°F (35°C)，描述：上午有几场强阵雨；部分晴\n",
      "* 星期二, 七月 15：低温：78°F (26°C)，高温：97°F (36°C)，描述：暖和，云量增加；下午局部地区有雷雨\n",
      "* 星期三, 七月 16：低温：80°F (27°C)，高温：101°F (38°C)，描述：部分晴，炎热\n",
      "* 星期四, 七月 17：低温：79°F (26°C)，高温：98°F (36°C)，描述：多云，暖和潮湿，有几场雷雨\n",
      "* 星期五, 七月 18：低温：78°F (25°C)，高温：93°F (34°C)，描述：强雷雨\n",
      "\n",
      "\n",
      "Please note that weather conditions can change rapidly. For the most current information, it's advisable to consult a local weather service. \n"
     ]
    }
   ],
   "source": [
    "response = client.responses.create(\n",
    "    model=\"gpt-4.1\",\n",
    "    tools=[{\"type\": \"web_search_preview\"}],\n",
    "    input=\"What is the weather of Hangzhou today?\"\n",
    ")\n",
    "\n",
    "print(response.output_text)"
   ]
  },
  {
   "cell_type": "code",
   "execution_count": null,
   "id": "24abb3cf",
   "metadata": {},
   "outputs": [],
   "source": []
  }
 ],
 "metadata": {
  "kernelspec": {
   "display_name": "web_chat",
   "language": "python",
   "name": "python3"
  },
  "language_info": {
   "codemirror_mode": {
    "name": "ipython",
    "version": 3
   },
   "file_extension": ".py",
   "mimetype": "text/x-python",
   "name": "python",
   "nbconvert_exporter": "python",
   "pygments_lexer": "ipython3",
   "version": "3.12.9"
  }
 },
 "nbformat": 4,
 "nbformat_minor": 5
}
